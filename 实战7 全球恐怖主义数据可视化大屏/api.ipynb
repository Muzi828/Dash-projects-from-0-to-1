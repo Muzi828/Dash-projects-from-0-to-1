{
 "cells": [
  {
   "cell_type": "code",
   "execution_count": 1,
   "metadata": {},
   "outputs": [
    {
     "data": {
      "text/html": [
       "<div>\n",
       "<style scoped>\n",
       "    .dataframe tbody tr th:only-of-type {\n",
       "        vertical-align: middle;\n",
       "    }\n",
       "\n",
       "    .dataframe tbody tr th {\n",
       "        vertical-align: top;\n",
       "    }\n",
       "\n",
       "    .dataframe thead th {\n",
       "        text-align: right;\n",
       "    }\n",
       "</style>\n",
       "<table border=\"1\" class=\"dataframe\">\n",
       "  <thead>\n",
       "    <tr style=\"text-align: right;\">\n",
       "      <th></th>\n",
       "      <th>region_txt</th>\n",
       "      <th>country_txt</th>\n",
       "      <th>provstate</th>\n",
       "      <th>city</th>\n",
       "      <th>iyear</th>\n",
       "      <th>latitude</th>\n",
       "      <th>longitude</th>\n",
       "      <th>nkill</th>\n",
       "      <th>nwound</th>\n",
       "      <th>attacktype1</th>\n",
       "    </tr>\n",
       "  </thead>\n",
       "  <tbody>\n",
       "    <tr>\n",
       "      <th>0</th>\n",
       "      <td>Central America &amp; Caribbean</td>\n",
       "      <td>Dominican Republic</td>\n",
       "      <td>NaN</td>\n",
       "      <td>Santo Domingo</td>\n",
       "      <td>1970</td>\n",
       "      <td>18.456792</td>\n",
       "      <td>-69.951164</td>\n",
       "      <td>1.0</td>\n",
       "      <td>0.0</td>\n",
       "      <td>1</td>\n",
       "    </tr>\n",
       "    <tr>\n",
       "      <th>1</th>\n",
       "      <td>North America</td>\n",
       "      <td>Mexico</td>\n",
       "      <td>Federal</td>\n",
       "      <td>Mexico city</td>\n",
       "      <td>1970</td>\n",
       "      <td>19.371887</td>\n",
       "      <td>-99.086624</td>\n",
       "      <td>0.0</td>\n",
       "      <td>0.0</td>\n",
       "      <td>6</td>\n",
       "    </tr>\n",
       "    <tr>\n",
       "      <th>2</th>\n",
       "      <td>Southeast Asia</td>\n",
       "      <td>Philippines</td>\n",
       "      <td>Tarlac</td>\n",
       "      <td>Unknown</td>\n",
       "      <td>1970</td>\n",
       "      <td>15.478598</td>\n",
       "      <td>120.599741</td>\n",
       "      <td>1.0</td>\n",
       "      <td>0.0</td>\n",
       "      <td>1</td>\n",
       "    </tr>\n",
       "    <tr>\n",
       "      <th>3</th>\n",
       "      <td>Western Europe</td>\n",
       "      <td>Greece</td>\n",
       "      <td>Attica</td>\n",
       "      <td>Athens</td>\n",
       "      <td>1970</td>\n",
       "      <td>37.997490</td>\n",
       "      <td>23.762728</td>\n",
       "      <td>NaN</td>\n",
       "      <td>NaN</td>\n",
       "      <td>3</td>\n",
       "    </tr>\n",
       "    <tr>\n",
       "      <th>4</th>\n",
       "      <td>East Asia</td>\n",
       "      <td>Japan</td>\n",
       "      <td>Fukouka</td>\n",
       "      <td>Fukouka</td>\n",
       "      <td>1970</td>\n",
       "      <td>33.580412</td>\n",
       "      <td>130.396361</td>\n",
       "      <td>NaN</td>\n",
       "      <td>NaN</td>\n",
       "      <td>7</td>\n",
       "    </tr>\n",
       "  </tbody>\n",
       "</table>\n",
       "</div>"
      ],
      "text/plain": [
       "                    region_txt         country_txt provstate           city  \\\n",
       "0  Central America & Caribbean  Dominican Republic       NaN  Santo Domingo   \n",
       "1                North America              Mexico   Federal    Mexico city   \n",
       "2               Southeast Asia         Philippines    Tarlac        Unknown   \n",
       "3               Western Europe              Greece    Attica         Athens   \n",
       "4                    East Asia               Japan   Fukouka        Fukouka   \n",
       "\n",
       "   iyear   latitude   longitude  nkill  nwound  attacktype1  \n",
       "0   1970  18.456792  -69.951164    1.0     0.0            1  \n",
       "1   1970  19.371887  -99.086624    0.0     0.0            6  \n",
       "2   1970  15.478598  120.599741    1.0     0.0            1  \n",
       "3   1970  37.997490   23.762728    NaN     NaN            3  \n",
       "4   1970  33.580412  130.396361    NaN     NaN            7  "
      ]
     },
     "execution_count": 1,
     "metadata": {},
     "output_type": "execute_result"
    }
   ],
   "source": [
    "import os\n",
    "os.chdir(r'd:/Data Science/plotly学习/个人/【12. Global terrorism】 Dropdown-Rangeslider-stackbarline-pie-map/')\n",
    "\n",
    "import pandas as pd\n",
    "data = pd.read_csv('data/modified_globalterrorismdb_0718dist.csv')\n",
    "data.head()"
   ]
  },
  {
   "cell_type": "code",
   "execution_count": 2,
   "metadata": {},
   "outputs": [
    {
     "data": {
      "text/html": [
       "<div>\n",
       "<style scoped>\n",
       "    .dataframe tbody tr th:only-of-type {\n",
       "        vertical-align: middle;\n",
       "    }\n",
       "\n",
       "    .dataframe tbody tr th {\n",
       "        vertical-align: top;\n",
       "    }\n",
       "\n",
       "    .dataframe thead th {\n",
       "        text-align: right;\n",
       "    }\n",
       "</style>\n",
       "<table border=\"1\" class=\"dataframe\">\n",
       "  <thead>\n",
       "    <tr style=\"text-align: right;\">\n",
       "      <th></th>\n",
       "      <th>region_txt</th>\n",
       "      <th>country_txt</th>\n",
       "      <th>iyear</th>\n",
       "      <th>nkill</th>\n",
       "      <th>nwound</th>\n",
       "      <th>attacktype1</th>\n",
       "    </tr>\n",
       "  </thead>\n",
       "  <tbody>\n",
       "    <tr>\n",
       "      <th>0</th>\n",
       "      <td>Australasia &amp; Oceania</td>\n",
       "      <td>Australia</td>\n",
       "      <td>1970</td>\n",
       "      <td>0.0</td>\n",
       "      <td>0.0</td>\n",
       "      <td>3</td>\n",
       "    </tr>\n",
       "    <tr>\n",
       "      <th>1</th>\n",
       "      <td>Australasia &amp; Oceania</td>\n",
       "      <td>Australia</td>\n",
       "      <td>1971</td>\n",
       "      <td>0.0</td>\n",
       "      <td>0.0</td>\n",
       "      <td>3</td>\n",
       "    </tr>\n",
       "    <tr>\n",
       "      <th>2</th>\n",
       "      <td>Australasia &amp; Oceania</td>\n",
       "      <td>Australia</td>\n",
       "      <td>1972</td>\n",
       "      <td>1.0</td>\n",
       "      <td>0.0</td>\n",
       "      <td>12</td>\n",
       "    </tr>\n",
       "    <tr>\n",
       "      <th>3</th>\n",
       "      <td>Australasia &amp; Oceania</td>\n",
       "      <td>Australia</td>\n",
       "      <td>1974</td>\n",
       "      <td>0.0</td>\n",
       "      <td>0.0</td>\n",
       "      <td>7</td>\n",
       "    </tr>\n",
       "    <tr>\n",
       "      <th>4</th>\n",
       "      <td>Australasia &amp; Oceania</td>\n",
       "      <td>Australia</td>\n",
       "      <td>1978</td>\n",
       "      <td>2.0</td>\n",
       "      <td>9.0</td>\n",
       "      <td>6</td>\n",
       "    </tr>\n",
       "  </tbody>\n",
       "</table>\n",
       "</div>"
      ],
      "text/plain": [
       "              region_txt country_txt  iyear  nkill  nwound  attacktype1\n",
       "0  Australasia & Oceania   Australia   1970    0.0     0.0            3\n",
       "1  Australasia & Oceania   Australia   1971    0.0     0.0            3\n",
       "2  Australasia & Oceania   Australia   1972    1.0     0.0           12\n",
       "3  Australasia & Oceania   Australia   1974    0.0     0.0            7\n",
       "4  Australasia & Oceania   Australia   1978    2.0     9.0            6"
      ]
     },
     "execution_count": 2,
     "metadata": {},
     "output_type": "execute_result"
    }
   ],
   "source": [
    "#首先对需要统计的字段进行缺失值填充，然后按照国家、地区、年份对死亡、受伤和攻击类型进行统计\n",
    "data[['nkill','nwound','attacktype1']] = data[['nkill','nwound','attacktype1']].fillna(0)\n",
    "df= data.groupby(['region_txt','country_txt','iyear'])[['nkill','nwound','attacktype1']].sum().reset_index()\n",
    "df.head()"
   ]
  },
  {
   "cell_type": "code",
   "execution_count": 3,
   "metadata": {},
   "outputs": [
    {
     "name": "stdout",
     "output_type": "stream",
     "text": [
      "数据中的年份跨度为: 1970-2017\n"
     ]
    }
   ],
   "source": [
    "#获取数据的时间跨度\n",
    "year_min,year_max = df['iyear'].min(),df['iyear'].max()\n",
    "print(f'数据中的年份跨度为: {year_min}-{year_max}')"
   ]
  },
  {
   "cell_type": "code",
   "execution_count": 4,
   "metadata": {},
   "outputs": [
    {
     "name": "stdout",
     "output_type": "stream",
     "text": [
      "['Australasia & Oceania', 'Central America & Caribbean', 'Central Asia', 'East Asia', 'Eastern Europe', 'Middle East & North Africa', 'North America', 'South America', 'South Asia', 'Southeast Asia', 'Sub-Saharan Africa', 'Western Europe']\n"
     ]
    }
   ],
   "source": [
    "#获取Dropdown组件中的标签信息，第一个是区域标签,核实没有缺失值None\n",
    "region_ls = df['region_txt'].unique().tolist()\n",
    "print(region_ls)"
   ]
  },
  {
   "cell_type": "code",
   "execution_count": 5,
   "metadata": {},
   "outputs": [
    {
     "name": "stdout",
     "output_type": "stream",
     "text": [
      "['Australia', 'Fiji', 'French Polynesia', 'New Caledonia', 'New Hebrides', 'New Zealand', 'Papua New Guinea', 'Solomon Islands', 'Vanuatu', 'Wallis and Futuna', 'Antigua and Barbuda', 'Bahamas', 'Barbados', 'Belize', 'Costa Rica', 'Cuba', 'Dominica', 'Dominican Republic', 'El Salvador', 'Grenada', 'Guadeloupe', 'Guatemala', 'Haiti', 'Honduras', 'Jamaica', 'Martinique', 'Nicaragua', 'Panama', 'St. Kitts and Nevis', 'St. Lucia', 'Trinidad and Tobago', 'Armenia', 'Azerbaijan', 'Georgia', 'Kazakhstan', 'Kyrgyzstan', 'Tajikistan', 'Turkmenistan', 'Uzbekistan', 'China', 'Hong Kong', 'Japan', 'Macau', 'North Korea', 'South Korea', 'Taiwan', 'Albania', 'Belarus', 'Bosnia-Herzegovina', 'Bulgaria', 'Croatia', 'Czech Republic', 'Czechoslovakia', 'East Germany (GDR)', 'Estonia', 'Hungary', 'Kosovo', 'Latvia', 'Lithuania', 'Macedonia', 'Moldova', 'Montenegro', 'Poland', 'Romania', 'Russia', 'Serbia', 'Serbia-Montenegro', 'Slovak Republic', 'Slovenia', 'Soviet Union', 'Ukraine', 'Yugoslavia', 'Algeria', 'Bahrain', 'Egypt', 'International', 'Iran', 'Iraq', 'Israel', 'Jordan', 'Kuwait', 'Lebanon', 'Libya', 'Morocco', 'North Yemen', 'Qatar', 'Saudi Arabia', 'South Yemen', 'Syria', 'Tunisia', 'Turkey', 'United Arab Emirates', 'West Bank and Gaza Strip', 'Western Sahara', 'Yemen', 'Canada', 'Mexico', 'United States', 'Argentina', 'Bolivia', 'Brazil', 'Chile', 'Colombia', 'Ecuador', 'Falkland Islands', 'French Guiana', 'Guyana', 'Paraguay', 'Peru', 'Suriname', 'Uruguay', 'Venezuela', 'Afghanistan', 'Bangladesh', 'Bhutan', 'India', 'Maldives', 'Mauritius', 'Nepal', 'Pakistan', 'Sri Lanka', 'Brunei', 'Cambodia', 'East Timor', 'Indonesia', 'Laos', 'Malaysia', 'Myanmar', 'Philippines', 'Singapore', 'South Vietnam', 'Thailand', 'Vietnam', 'Angola', 'Benin', 'Botswana', 'Burkina Faso', 'Burundi', 'Cameroon', 'Central African Republic', 'Chad', 'Comoros', 'Democratic Republic of the Congo', 'Djibouti', 'Equatorial Guinea', 'Eritrea', 'Ethiopia', 'Gabon', 'Gambia', 'Ghana', 'Guinea', 'Guinea-Bissau', 'Ivory Coast', 'Kenya', 'Lesotho', 'Liberia', 'Madagascar', 'Malawi', 'Mali', 'Mauritania', 'Mozambique', 'Namibia', 'Niger', 'Nigeria', \"People's Republic of the Congo\", 'Republic of the Congo', 'Rhodesia', 'Rwanda', 'Senegal', 'Seychelles', 'Sierra Leone', 'Somalia', 'South Africa', 'South Sudan', 'Sudan', 'Swaziland', 'Tanzania', 'Togo', 'Uganda', 'Zaire', 'Zambia', 'Zimbabwe', 'Andorra', 'Austria', 'Belgium', 'Cyprus', 'Denmark', 'Finland', 'France', 'Germany', 'Greece', 'Iceland', 'Ireland', 'Italy', 'Luxembourg', 'Malta', 'Netherlands', 'Norway', 'Portugal', 'Spain', 'Sweden', 'Switzerland', 'United Kingdom', 'Vatican City', 'West Germany (FRG)']\n"
     ]
    }
   ],
   "source": [
    "#获取Dropdown组件中的标签信息，第二个是国家标签,核实也没有缺失值None\n",
    "country_ls = df['country_txt'].unique().tolist()\n",
    "print(country_ls)"
   ]
  },
  {
   "cell_type": "code",
   "execution_count": 6,
   "metadata": {},
   "outputs": [
    {
     "data": {
      "text/plain": [
       "0"
      ]
     },
     "execution_count": 6,
     "metadata": {},
     "output_type": "execute_result"
    }
   ],
   "source": [
    "country_ls.count(None)"
   ]
  },
  {
   "cell_type": "code",
   "execution_count": 7,
   "metadata": {},
   "outputs": [],
   "source": [
    "#获取筛选后的数据，df\n",
    "def get_data(region,country,span_year):\n",
    "    df_filter = df[\n",
    "        (df['region_txt']==region) & (df['country_txt']==country) & (df['iyear']>=span_year[0]) & (df['iyear']<=span_year[1])\n",
    "    ]\n",
    "    \n",
    "    return df_filter"
   ]
  },
  {
   "cell_type": "code",
   "execution_count": 8,
   "metadata": {},
   "outputs": [
    {
     "data": {
      "text/html": [
       "<div>\n",
       "<style scoped>\n",
       "    .dataframe tbody tr th:only-of-type {\n",
       "        vertical-align: middle;\n",
       "    }\n",
       "\n",
       "    .dataframe tbody tr th {\n",
       "        vertical-align: top;\n",
       "    }\n",
       "\n",
       "    .dataframe thead th {\n",
       "        text-align: right;\n",
       "    }\n",
       "</style>\n",
       "<table border=\"1\" class=\"dataframe\">\n",
       "  <thead>\n",
       "    <tr style=\"text-align: right;\">\n",
       "      <th></th>\n",
       "      <th>region_txt</th>\n",
       "      <th>country_txt</th>\n",
       "      <th>iyear</th>\n",
       "      <th>nkill</th>\n",
       "      <th>nwound</th>\n",
       "      <th>attacktype1</th>\n",
       "    </tr>\n",
       "  </thead>\n",
       "  <tbody>\n",
       "    <tr>\n",
       "      <th>0</th>\n",
       "      <td>Australasia &amp; Oceania</td>\n",
       "      <td>Australia</td>\n",
       "      <td>1970</td>\n",
       "      <td>0.0</td>\n",
       "      <td>0.0</td>\n",
       "      <td>3</td>\n",
       "    </tr>\n",
       "    <tr>\n",
       "      <th>1</th>\n",
       "      <td>Australasia &amp; Oceania</td>\n",
       "      <td>Australia</td>\n",
       "      <td>1971</td>\n",
       "      <td>0.0</td>\n",
       "      <td>0.0</td>\n",
       "      <td>3</td>\n",
       "    </tr>\n",
       "    <tr>\n",
       "      <th>2</th>\n",
       "      <td>Australasia &amp; Oceania</td>\n",
       "      <td>Australia</td>\n",
       "      <td>1972</td>\n",
       "      <td>1.0</td>\n",
       "      <td>0.0</td>\n",
       "      <td>12</td>\n",
       "    </tr>\n",
       "    <tr>\n",
       "      <th>3</th>\n",
       "      <td>Australasia &amp; Oceania</td>\n",
       "      <td>Australia</td>\n",
       "      <td>1974</td>\n",
       "      <td>0.0</td>\n",
       "      <td>0.0</td>\n",
       "      <td>7</td>\n",
       "    </tr>\n",
       "    <tr>\n",
       "      <th>4</th>\n",
       "      <td>Australasia &amp; Oceania</td>\n",
       "      <td>Australia</td>\n",
       "      <td>1978</td>\n",
       "      <td>2.0</td>\n",
       "      <td>9.0</td>\n",
       "      <td>6</td>\n",
       "    </tr>\n",
       "  </tbody>\n",
       "</table>\n",
       "</div>"
      ],
      "text/plain": [
       "              region_txt country_txt  iyear  nkill  nwound  attacktype1\n",
       "0  Australasia & Oceania   Australia   1970    0.0     0.0            3\n",
       "1  Australasia & Oceania   Australia   1971    0.0     0.0            3\n",
       "2  Australasia & Oceania   Australia   1972    1.0     0.0           12\n",
       "3  Australasia & Oceania   Australia   1974    0.0     0.0            7\n",
       "4  Australasia & Oceania   Australia   1978    2.0     9.0            6"
      ]
     },
     "execution_count": 8,
     "metadata": {},
     "output_type": "execute_result"
    }
   ],
   "source": [
    "df.head()"
   ]
  },
  {
   "cell_type": "code",
   "execution_count": 9,
   "metadata": {},
   "outputs": [
    {
     "data": {
      "text/html": [
       "<div>\n",
       "<style scoped>\n",
       "    .dataframe tbody tr th:only-of-type {\n",
       "        vertical-align: middle;\n",
       "    }\n",
       "\n",
       "    .dataframe tbody tr th {\n",
       "        vertical-align: top;\n",
       "    }\n",
       "\n",
       "    .dataframe thead th {\n",
       "        text-align: right;\n",
       "    }\n",
       "</style>\n",
       "<table border=\"1\" class=\"dataframe\">\n",
       "  <thead>\n",
       "    <tr style=\"text-align: right;\">\n",
       "      <th></th>\n",
       "      <th>region_txt</th>\n",
       "      <th>country_txt</th>\n",
       "      <th>iyear</th>\n",
       "      <th>nkill</th>\n",
       "      <th>nwound</th>\n",
       "      <th>attacktype1</th>\n",
       "    </tr>\n",
       "  </thead>\n",
       "  <tbody>\n",
       "    <tr>\n",
       "      <th>0</th>\n",
       "      <td>Australasia &amp; Oceania</td>\n",
       "      <td>Australia</td>\n",
       "      <td>1970</td>\n",
       "      <td>0.0</td>\n",
       "      <td>0.0</td>\n",
       "      <td>3</td>\n",
       "    </tr>\n",
       "    <tr>\n",
       "      <th>1</th>\n",
       "      <td>Australasia &amp; Oceania</td>\n",
       "      <td>Australia</td>\n",
       "      <td>1971</td>\n",
       "      <td>0.0</td>\n",
       "      <td>0.0</td>\n",
       "      <td>3</td>\n",
       "    </tr>\n",
       "  </tbody>\n",
       "</table>\n",
       "</div>"
      ],
      "text/plain": [
       "              region_txt country_txt  iyear  nkill  nwound  attacktype1\n",
       "0  Australasia & Oceania   Australia   1970    0.0     0.0            3\n",
       "1  Australasia & Oceania   Australia   1971    0.0     0.0            3"
      ]
     },
     "execution_count": 9,
     "metadata": {},
     "output_type": "execute_result"
    }
   ],
   "source": [
    "#验证函数是否有效，输出结果无误\n",
    "df_filter = get_data('Australasia & Oceania','Australia',[1970,1971])\n",
    "df_filter"
   ]
  },
  {
   "cell_type": "code",
   "execution_count": 10,
   "metadata": {},
   "outputs": [
    {
     "data": {
      "text/plain": [
       "[[0.0, 0.0], [0.0, 0.0], [3.0, 3.0]]"
      ]
     },
     "execution_count": 10,
     "metadata": {},
     "output_type": "execute_result"
    }
   ],
   "source": [
    "#提取最后三列数据\n",
    "filter_data_ls = df_filter[df_filter.columns[-3:]].values.T.tolist()\n",
    "filter_data_ls"
   ]
  },
  {
   "cell_type": "code",
   "execution_count": 11,
   "metadata": {},
   "outputs": [
    {
     "data": {
      "text/plain": [
       "True"
      ]
     },
     "execution_count": 11,
     "metadata": {},
     "output_type": "execute_result"
    }
   ],
   "source": [
    "#核实数据提取无误，列表中的第一个列表数据，就是死亡数据，剩下的依次类推\n",
    "filter_data_ls[0] == df_filter['nkill'].values.tolist()"
   ]
  },
  {
   "cell_type": "code",
   "execution_count": 12,
   "metadata": {},
   "outputs": [],
   "source": [
    "#进一步把绘制图形的数据的过程也封装进来\n",
    "def get_data(region,country,span_year):\n",
    "\n",
    "    '''返回的是一个包含死亡、受伤和攻击类型的列表'''\n",
    "    df_filter = df[\n",
    "        (df['region_txt']==region) & (df['country_txt']==country) & (df['iyear']>=span_year[0]) & (df['iyear']<=span_year[1])\n",
    "    ]\n",
    "    filter_data_ls = df_filter[df_filter.columns[-3:]].values.T.tolist()\n",
    "    return filter_data_ls"
   ]
  },
  {
   "cell_type": "code",
   "execution_count": 13,
   "metadata": {},
   "outputs": [
    {
     "data": {
      "text/plain": [
       "[[0.0, 0.0], [0.0, 0.0], [3.0, 3.0]]"
      ]
     },
     "execution_count": 13,
     "metadata": {},
     "output_type": "execute_result"
    }
   ],
   "source": [
    "get_data('Australasia & Oceania','Australia',[1970,1971])"
   ]
  },
  {
   "cell_type": "code",
   "execution_count": 14,
   "metadata": {},
   "outputs": [
    {
     "data": {
      "text/plain": [
       "[0.0, 0.0]"
      ]
     },
     "execution_count": 14,
     "metadata": {},
     "output_type": "execute_result"
    }
   ],
   "source": [
    "a,b,c = get_data('Australasia & Oceania','Australia',[1970,1971])\n",
    "a"
   ]
  },
  {
   "cell_type": "code",
   "execution_count": 15,
   "metadata": {},
   "outputs": [
    {
     "data": {
      "text/plain": [
       "[0.0, 0.0, 6.0]"
      ]
     },
     "execution_count": 15,
     "metadata": {},
     "output_type": "execute_result"
    }
   ],
   "source": [
    "[sum(i) for i in get_data('Australasia & Oceania','Australia',[1970,1971])]"
   ]
  },
  {
   "cell_type": "code",
   "execution_count": 16,
   "metadata": {},
   "outputs": [
    {
     "data": {
      "text/html": [
       "<div>\n",
       "<style scoped>\n",
       "    .dataframe tbody tr th:only-of-type {\n",
       "        vertical-align: middle;\n",
       "    }\n",
       "\n",
       "    .dataframe tbody tr th {\n",
       "        vertical-align: top;\n",
       "    }\n",
       "\n",
       "    .dataframe thead th {\n",
       "        text-align: right;\n",
       "    }\n",
       "</style>\n",
       "<table border=\"1\" class=\"dataframe\">\n",
       "  <thead>\n",
       "    <tr style=\"text-align: right;\">\n",
       "      <th></th>\n",
       "      <th>region_txt</th>\n",
       "      <th>country_txt</th>\n",
       "      <th>iyear</th>\n",
       "      <th>latitude</th>\n",
       "      <th>longitude</th>\n",
       "      <th>nkill</th>\n",
       "      <th>nwound</th>\n",
       "      <th>attacktype1</th>\n",
       "    </tr>\n",
       "  </thead>\n",
       "  <tbody>\n",
       "    <tr>\n",
       "      <th>0</th>\n",
       "      <td>Australasia &amp; Oceania</td>\n",
       "      <td>Australia</td>\n",
       "      <td>1970</td>\n",
       "      <td>-37.813187</td>\n",
       "      <td>144.962980</td>\n",
       "      <td>0.0</td>\n",
       "      <td>0.0</td>\n",
       "      <td>3</td>\n",
       "    </tr>\n",
       "    <tr>\n",
       "      <th>1</th>\n",
       "      <td>Australasia &amp; Oceania</td>\n",
       "      <td>Australia</td>\n",
       "      <td>1971</td>\n",
       "      <td>-33.873651</td>\n",
       "      <td>151.206890</td>\n",
       "      <td>0.0</td>\n",
       "      <td>0.0</td>\n",
       "      <td>3</td>\n",
       "    </tr>\n",
       "    <tr>\n",
       "      <th>2</th>\n",
       "      <td>Australasia &amp; Oceania</td>\n",
       "      <td>Australia</td>\n",
       "      <td>1972</td>\n",
       "      <td>-33.868820</td>\n",
       "      <td>151.209295</td>\n",
       "      <td>0.0</td>\n",
       "      <td>0.0</td>\n",
       "      <td>1</td>\n",
       "    </tr>\n",
       "    <tr>\n",
       "      <th>3</th>\n",
       "      <td>Australasia &amp; Oceania</td>\n",
       "      <td>Australia</td>\n",
       "      <td>1972</td>\n",
       "      <td>-27.470933</td>\n",
       "      <td>153.023502</td>\n",
       "      <td>1.0</td>\n",
       "      <td>0.0</td>\n",
       "      <td>6</td>\n",
       "    </tr>\n",
       "    <tr>\n",
       "      <th>4</th>\n",
       "      <td>Australasia &amp; Oceania</td>\n",
       "      <td>Australia</td>\n",
       "      <td>1974</td>\n",
       "      <td>-33.873651</td>\n",
       "      <td>151.206890</td>\n",
       "      <td>0.0</td>\n",
       "      <td>0.0</td>\n",
       "      <td>7</td>\n",
       "    </tr>\n",
       "  </tbody>\n",
       "</table>\n",
       "</div>"
      ],
      "text/plain": [
       "              region_txt country_txt  iyear   latitude   longitude  nkill  \\\n",
       "0  Australasia & Oceania   Australia   1970 -37.813187  144.962980    0.0   \n",
       "1  Australasia & Oceania   Australia   1971 -33.873651  151.206890    0.0   \n",
       "2  Australasia & Oceania   Australia   1972 -33.868820  151.209295    0.0   \n",
       "3  Australasia & Oceania   Australia   1972 -27.470933  153.023502    1.0   \n",
       "4  Australasia & Oceania   Australia   1974 -33.873651  151.206890    0.0   \n",
       "\n",
       "   nwound  attacktype1  \n",
       "0     0.0            3  \n",
       "1     0.0            3  \n",
       "2     0.0            1  \n",
       "3     0.0            6  \n",
       "4     0.0            7  "
      ]
     },
     "execution_count": 16,
     "metadata": {},
     "output_type": "execute_result"
    }
   ],
   "source": [
    "geo_df = data.groupby(['region_txt','country_txt','iyear','latitude','longitude'])[['nkill','nwound','attacktype1']].sum().reset_index()\n",
    "geo_df.head()"
   ]
  },
  {
   "cell_type": "code",
   "execution_count": 17,
   "metadata": {},
   "outputs": [
    {
     "data": {
      "text/html": [
       "<div>\n",
       "<style scoped>\n",
       "    .dataframe tbody tr th:only-of-type {\n",
       "        vertical-align: middle;\n",
       "    }\n",
       "\n",
       "    .dataframe tbody tr th {\n",
       "        vertical-align: top;\n",
       "    }\n",
       "\n",
       "    .dataframe thead th {\n",
       "        text-align: right;\n",
       "    }\n",
       "</style>\n",
       "<table border=\"1\" class=\"dataframe\">\n",
       "  <thead>\n",
       "    <tr style=\"text-align: right;\">\n",
       "      <th></th>\n",
       "      <th>region_txt</th>\n",
       "      <th>country_txt</th>\n",
       "    </tr>\n",
       "  </thead>\n",
       "  <tbody>\n",
       "    <tr>\n",
       "      <th>0</th>\n",
       "      <td>Australasia &amp; Oceania</td>\n",
       "      <td>[French Polynesia, Wallis and Futuna, New Hebr...</td>\n",
       "    </tr>\n",
       "    <tr>\n",
       "      <th>1</th>\n",
       "      <td>Central America &amp; Caribbean</td>\n",
       "      <td>[Nicaragua, Trinidad and Tobago, Guadeloupe, P...</td>\n",
       "    </tr>\n",
       "    <tr>\n",
       "      <th>2</th>\n",
       "      <td>Central Asia</td>\n",
       "      <td>[Tajikistan, Georgia, Turkmenistan, Uzbekistan...</td>\n",
       "    </tr>\n",
       "    <tr>\n",
       "      <th>3</th>\n",
       "      <td>East Asia</td>\n",
       "      <td>[Macau, South Korea, Hong Kong, China, Japan, ...</td>\n",
       "    </tr>\n",
       "    <tr>\n",
       "      <th>4</th>\n",
       "      <td>Eastern Europe</td>\n",
       "      <td>[Serbia, Soviet Union, Slovenia, Ukraine, Bela...</td>\n",
       "    </tr>\n",
       "    <tr>\n",
       "      <th>5</th>\n",
       "      <td>Middle East &amp; North Africa</td>\n",
       "      <td>[Lebanon, Libya, Saudi Arabia, Iraq, Israel, B...</td>\n",
       "    </tr>\n",
       "    <tr>\n",
       "      <th>6</th>\n",
       "      <td>North America</td>\n",
       "      <td>[Canada, Mexico, United States]</td>\n",
       "    </tr>\n",
       "    <tr>\n",
       "      <th>7</th>\n",
       "      <td>South America</td>\n",
       "      <td>[Brazil, Chile, Ecuador, Suriname, Guyana, Par...</td>\n",
       "    </tr>\n",
       "    <tr>\n",
       "      <th>8</th>\n",
       "      <td>South Asia</td>\n",
       "      <td>[Mauritius, Sri Lanka, Pakistan, Maldives, Bhu...</td>\n",
       "    </tr>\n",
       "    <tr>\n",
       "      <th>9</th>\n",
       "      <td>Southeast Asia</td>\n",
       "      <td>[Indonesia, Vietnam, Singapore, South Vietnam,...</td>\n",
       "    </tr>\n",
       "    <tr>\n",
       "      <th>10</th>\n",
       "      <td>Sub-Saharan Africa</td>\n",
       "      <td>[Democratic Republic of the Congo, South Afric...</td>\n",
       "    </tr>\n",
       "    <tr>\n",
       "      <th>11</th>\n",
       "      <td>Western Europe</td>\n",
       "      <td>[Vatican City, Portugal, West Germany (FRG), C...</td>\n",
       "    </tr>\n",
       "  </tbody>\n",
       "</table>\n",
       "</div>"
      ],
      "text/plain": [
       "                     region_txt  \\\n",
       "0         Australasia & Oceania   \n",
       "1   Central America & Caribbean   \n",
       "2                  Central Asia   \n",
       "3                     East Asia   \n",
       "4                Eastern Europe   \n",
       "5    Middle East & North Africa   \n",
       "6                 North America   \n",
       "7                 South America   \n",
       "8                    South Asia   \n",
       "9                Southeast Asia   \n",
       "10           Sub-Saharan Africa   \n",
       "11               Western Europe   \n",
       "\n",
       "                                          country_txt  \n",
       "0   [French Polynesia, Wallis and Futuna, New Hebr...  \n",
       "1   [Nicaragua, Trinidad and Tobago, Guadeloupe, P...  \n",
       "2   [Tajikistan, Georgia, Turkmenistan, Uzbekistan...  \n",
       "3   [Macau, South Korea, Hong Kong, China, Japan, ...  \n",
       "4   [Serbia, Soviet Union, Slovenia, Ukraine, Bela...  \n",
       "5   [Lebanon, Libya, Saudi Arabia, Iraq, Israel, B...  \n",
       "6                     [Canada, Mexico, United States]  \n",
       "7   [Brazil, Chile, Ecuador, Suriname, Guyana, Par...  \n",
       "8   [Mauritius, Sri Lanka, Pakistan, Maldives, Bhu...  \n",
       "9   [Indonesia, Vietnam, Singapore, South Vietnam,...  \n",
       "10  [Democratic Republic of the Congo, South Afric...  \n",
       "11  [Vatican City, Portugal, West Germany (FRG), C...  "
      ]
     },
     "execution_count": 17,
     "metadata": {},
     "output_type": "execute_result"
    }
   ],
   "source": [
    "#筛选组件中的便签选择优化,需要形成一个region作为键，country作为值的字典\n",
    "option_df = data[['region_txt','country_txt']].groupby('region_txt').agg({'country_txt':lambda x:list(set(x))}).reset_index()\n",
    "option_df"
   ]
  },
  {
   "cell_type": "code",
   "execution_count": 18,
   "metadata": {},
   "outputs": [
    {
     "data": {
      "text/plain": [
       "0     {'Australasia & Oceania': ['French Polynesia',...\n",
       "1     {'Central America & Caribbean': ['Nicaragua', ...\n",
       "2     {'Central Asia': ['Tajikistan', 'Georgia', 'Tu...\n",
       "3     {'East Asia': ['Macau', 'South Korea', 'Hong K...\n",
       "4     {'Eastern Europe': ['Serbia', 'Soviet Union', ...\n",
       "5     {'Middle East & North Africa': ['Lebanon', 'Li...\n",
       "6     {'North America': ['Canada', 'Mexico', 'United...\n",
       "7     {'South America': ['Brazil', 'Chile', 'Ecuador...\n",
       "8     {'South Asia': ['Mauritius', 'Sri Lanka', 'Pak...\n",
       "9     {'Southeast Asia': ['Indonesia', 'Vietnam', 'S...\n",
       "10    {'Sub-Saharan Africa': ['Democratic Republic o...\n",
       "11    {'Western Europe': ['Vatican City', 'Portugal'...\n",
       "dtype: object"
      ]
     },
     "execution_count": 18,
     "metadata": {},
     "output_type": "execute_result"
    }
   ],
   "source": [
    "#以第一列为键，第二列为值构建字典变量\n",
    "options_series = option_df.apply(lambda x: {x['region_txt']:x['country_txt']},axis=1)\n",
    "options_series"
   ]
  },
  {
   "cell_type": "code",
   "execution_count": 19,
   "metadata": {},
   "outputs": [
    {
     "data": {
      "text/plain": [
       "{'Australasia & Oceania': ['French Polynesia',\n",
       "  'Wallis and Futuna',\n",
       "  'New Hebrides',\n",
       "  'Solomon Islands',\n",
       "  'New Zealand',\n",
       "  'Australia',\n",
       "  'Vanuatu',\n",
       "  'New Caledonia',\n",
       "  'Fiji',\n",
       "  'Papua New Guinea'],\n",
       " 'Central America & Caribbean': ['Nicaragua',\n",
       "  'Trinidad and Tobago',\n",
       "  'Guadeloupe',\n",
       "  'Panama',\n",
       "  'Honduras',\n",
       "  'St. Kitts and Nevis',\n",
       "  'Haiti',\n",
       "  'Bahamas',\n",
       "  'Grenada',\n",
       "  'Belize',\n",
       "  'Dominica',\n",
       "  'Cuba',\n",
       "  'Martinique',\n",
       "  'Antigua and Barbuda',\n",
       "  'El Salvador',\n",
       "  'Barbados',\n",
       "  'Costa Rica',\n",
       "  'St. Lucia',\n",
       "  'Dominican Republic',\n",
       "  'Guatemala',\n",
       "  'Jamaica'],\n",
       " 'Central Asia': ['Tajikistan',\n",
       "  'Georgia',\n",
       "  'Turkmenistan',\n",
       "  'Uzbekistan',\n",
       "  'Azerbaijan',\n",
       "  'Armenia',\n",
       "  'Kazakhstan',\n",
       "  'Kyrgyzstan'],\n",
       " 'East Asia': ['Macau',\n",
       "  'South Korea',\n",
       "  'Hong Kong',\n",
       "  'China',\n",
       "  'Japan',\n",
       "  'Taiwan',\n",
       "  'North Korea'],\n",
       " 'Eastern Europe': ['Serbia',\n",
       "  'Soviet Union',\n",
       "  'Slovenia',\n",
       "  'Ukraine',\n",
       "  'Belarus',\n",
       "  'Bulgaria',\n",
       "  'Czechoslovakia',\n",
       "  'Yugoslavia',\n",
       "  'Estonia',\n",
       "  'Slovak Republic',\n",
       "  'Macedonia',\n",
       "  'Czech Republic',\n",
       "  'Montenegro',\n",
       "  'Croatia',\n",
       "  'Hungary',\n",
       "  'Latvia',\n",
       "  'Bosnia-Herzegovina',\n",
       "  'Albania',\n",
       "  'Serbia-Montenegro',\n",
       "  'Poland',\n",
       "  'Moldova',\n",
       "  'Kosovo',\n",
       "  'East Germany (GDR)',\n",
       "  'Russia',\n",
       "  'Romania',\n",
       "  'Lithuania'],\n",
       " 'Middle East & North Africa': ['Lebanon',\n",
       "  'Libya',\n",
       "  'Saudi Arabia',\n",
       "  'Iraq',\n",
       "  'Israel',\n",
       "  'Bahrain',\n",
       "  'United Arab Emirates',\n",
       "  'Turkey',\n",
       "  'Morocco',\n",
       "  'Jordan',\n",
       "  'Syria',\n",
       "  'Western Sahara',\n",
       "  'Yemen',\n",
       "  'Algeria',\n",
       "  'South Yemen',\n",
       "  'West Bank and Gaza Strip',\n",
       "  'Kuwait',\n",
       "  'Egypt',\n",
       "  'International',\n",
       "  'North Yemen',\n",
       "  'Tunisia',\n",
       "  'Iran',\n",
       "  'Qatar'],\n",
       " 'North America': ['Canada', 'Mexico', 'United States'],\n",
       " 'South America': ['Brazil',\n",
       "  'Chile',\n",
       "  'Ecuador',\n",
       "  'Suriname',\n",
       "  'Guyana',\n",
       "  'Paraguay',\n",
       "  'Uruguay',\n",
       "  'Bolivia',\n",
       "  'Argentina',\n",
       "  'Peru',\n",
       "  'Falkland Islands',\n",
       "  'French Guiana',\n",
       "  'Colombia',\n",
       "  'Venezuela'],\n",
       " 'South Asia': ['Mauritius',\n",
       "  'Sri Lanka',\n",
       "  'Pakistan',\n",
       "  'Maldives',\n",
       "  'Bhutan',\n",
       "  'Nepal',\n",
       "  'Bangladesh',\n",
       "  'Afghanistan',\n",
       "  'India'],\n",
       " 'Southeast Asia': ['Indonesia',\n",
       "  'Vietnam',\n",
       "  'Singapore',\n",
       "  'South Vietnam',\n",
       "  'Brunei',\n",
       "  'Myanmar',\n",
       "  'Laos',\n",
       "  'Philippines',\n",
       "  'Thailand',\n",
       "  'Malaysia',\n",
       "  'East Timor',\n",
       "  'Cambodia'],\n",
       " 'Sub-Saharan Africa': ['Democratic Republic of the Congo',\n",
       "  'South Africa',\n",
       "  'Namibia',\n",
       "  'Chad',\n",
       "  'Madagascar',\n",
       "  'Zambia',\n",
       "  'Zimbabwe',\n",
       "  'Mauritania',\n",
       "  'Equatorial Guinea',\n",
       "  'Rhodesia',\n",
       "  'Benin',\n",
       "  'Gabon',\n",
       "  'Burundi',\n",
       "  'Nigeria',\n",
       "  'Kenya',\n",
       "  'Central African Republic',\n",
       "  'Guinea',\n",
       "  'Seychelles',\n",
       "  'Gambia',\n",
       "  'Sudan',\n",
       "  'Tanzania',\n",
       "  'Senegal',\n",
       "  'Guinea-Bissau',\n",
       "  \"People's Republic of the Congo\",\n",
       "  'Botswana',\n",
       "  'Mali',\n",
       "  'Cameroon',\n",
       "  'Eritrea',\n",
       "  'Mozambique',\n",
       "  'Burkina Faso',\n",
       "  'Liberia',\n",
       "  'South Sudan',\n",
       "  'Ghana',\n",
       "  'Zaire',\n",
       "  'Ivory Coast',\n",
       "  'Togo',\n",
       "  'Malawi',\n",
       "  'Uganda',\n",
       "  'Swaziland',\n",
       "  'Sierra Leone',\n",
       "  'Ethiopia',\n",
       "  'Somalia',\n",
       "  'Angola',\n",
       "  'Rwanda',\n",
       "  'Comoros',\n",
       "  'Niger',\n",
       "  'Republic of the Congo',\n",
       "  'Djibouti',\n",
       "  'Lesotho'],\n",
       " 'Western Europe': ['Vatican City',\n",
       "  'Portugal',\n",
       "  'West Germany (FRG)',\n",
       "  'Cyprus',\n",
       "  'Iceland',\n",
       "  'Spain',\n",
       "  'Austria',\n",
       "  'Switzerland',\n",
       "  'United Kingdom',\n",
       "  'Norway',\n",
       "  'Finland',\n",
       "  'Malta',\n",
       "  'Luxembourg',\n",
       "  'Ireland',\n",
       "  'Netherlands',\n",
       "  'Sweden',\n",
       "  'Andorra',\n",
       "  'Greece',\n",
       "  'Belgium',\n",
       "  'Germany',\n",
       "  'Italy',\n",
       "  'France',\n",
       "  'Denmark']}"
      ]
     },
     "execution_count": 19,
     "metadata": {},
     "output_type": "execute_result"
    }
   ],
   "source": [
    "#构建成功\n",
    "all_options = {}\n",
    "for i in options_series.values:\n",
    "    all_options.update(i)\n",
    "all_options"
   ]
  },
  {
   "cell_type": "code",
   "execution_count": null,
   "metadata": {},
   "outputs": [],
   "source": []
  }
 ],
 "metadata": {
  "kernelspec": {
   "display_name": "Python 3",
   "language": "python",
   "name": "python3"
  },
  "language_info": {
   "codemirror_mode": {
    "name": "ipython",
    "version": 3
   },
   "file_extension": ".py",
   "mimetype": "text/x-python",
   "name": "python",
   "nbconvert_exporter": "python",
   "pygments_lexer": "ipython3",
   "version": "3.8.3"
  },
  "orig_nbformat": 4,
  "vscode": {
   "interpreter": {
    "hash": "fd16a1c2e981052eaae61151b9525ae9913f1f0d16bca6b7e7be9e0f29d739d2"
   }
  }
 },
 "nbformat": 4,
 "nbformat_minor": 2
}
